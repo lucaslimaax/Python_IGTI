{
  "nbformat": 4,
  "nbformat_minor": 0,
  "metadata": {
    "colab": {
      "name": "Scikit_learn.ipynb",
      "provenance": [],
      "collapsed_sections": []
    },
    "kernelspec": {
      "name": "python3",
      "display_name": "Python 3"
    }
  },
  "cells": [
    {
      "cell_type": "code",
      "metadata": {
        "id": "jJToOAcUfMdL"
      },
      "source": [
        "import pandas as pd\n",
        "import numpy as np\n",
        "import matplotlib.pyplot as plt\n",
        "\n",
        "#leitura dos dados csv\n",
        "\n",
        "df = pd.read_csv(\"https://pycourse.s3.amazonaws.com/temperature.csv\")\n",
        "df\n",
        "\n",
        "df.sort_values?"
      ],
      "execution_count": 1,
      "outputs": []
    },
    {
      "cell_type": "code",
      "metadata": {
        "id": "QwT8x5mufuHm",
        "outputId": "336d5d0f-4e7c-498d-a5f4-d8d8175107a9",
        "colab": {
          "base_uri": "https://localhost:8080/",
          "height": 235
        }
      },
      "source": [
        "df"
      ],
      "execution_count": 2,
      "outputs": [
        {
          "output_type": "execute_result",
          "data": {
            "text/html": [
              "<div>\n",
              "<style scoped>\n",
              "    .dataframe tbody tr th:only-of-type {\n",
              "        vertical-align: middle;\n",
              "    }\n",
              "\n",
              "    .dataframe tbody tr th {\n",
              "        vertical-align: top;\n",
              "    }\n",
              "\n",
              "    .dataframe thead th {\n",
              "        text-align: right;\n",
              "    }\n",
              "</style>\n",
              "<table border=\"1\" class=\"dataframe\">\n",
              "  <thead>\n",
              "    <tr style=\"text-align: right;\">\n",
              "      <th></th>\n",
              "      <th>date</th>\n",
              "      <th>temperatura</th>\n",
              "      <th>classification</th>\n",
              "    </tr>\n",
              "  </thead>\n",
              "  <tbody>\n",
              "    <tr>\n",
              "      <th>0</th>\n",
              "      <td>2020-01-01</td>\n",
              "      <td>29.1</td>\n",
              "      <td>quente</td>\n",
              "    </tr>\n",
              "    <tr>\n",
              "      <th>1</th>\n",
              "      <td>2020-02-01</td>\n",
              "      <td>31.2</td>\n",
              "      <td>muito quente</td>\n",
              "    </tr>\n",
              "    <tr>\n",
              "      <th>2</th>\n",
              "      <td>2020-03-01</td>\n",
              "      <td>28.5</td>\n",
              "      <td>quente</td>\n",
              "    </tr>\n",
              "    <tr>\n",
              "      <th>3</th>\n",
              "      <td>2020-04-01</td>\n",
              "      <td>28.0</td>\n",
              "      <td>quente</td>\n",
              "    </tr>\n",
              "    <tr>\n",
              "      <th>4</th>\n",
              "      <td>2020-05-01</td>\n",
              "      <td>24.0</td>\n",
              "      <td>confortavel</td>\n",
              "    </tr>\n",
              "    <tr>\n",
              "      <th>5</th>\n",
              "      <td>2020-06-01</td>\n",
              "      <td>20.0</td>\n",
              "      <td>frio</td>\n",
              "    </tr>\n",
              "  </tbody>\n",
              "</table>\n",
              "</div>"
            ],
            "text/plain": [
              "         date  temperatura classification\n",
              "0  2020-01-01         29.1         quente\n",
              "1  2020-02-01         31.2   muito quente\n",
              "2  2020-03-01         28.5         quente\n",
              "3  2020-04-01         28.0         quente\n",
              "4  2020-05-01         24.0    confortavel\n",
              "5  2020-06-01         20.0           frio"
            ]
          },
          "metadata": {
            "tags": []
          },
          "execution_count": 2
        }
      ]
    },
    {
      "cell_type": "code",
      "metadata": {
        "id": "4g0qlbZ8fzVA",
        "outputId": "b0798e7a-34cb-4560-e8a5-dec17a3e8f22",
        "colab": {
          "base_uri": "https://localhost:8080/",
          "height": 255
        }
      },
      "source": [
        "#Extração de x e y\n",
        "\n",
        "x, y = df[['temperatura']].values, df[['classification']].values\n",
        "print(\"x:\\n\", x)\n",
        "print(\"y:\\n\", y)"
      ],
      "execution_count": 3,
      "outputs": [
        {
          "output_type": "stream",
          "text": [
            "x:\n",
            " [[29.1]\n",
            " [31.2]\n",
            " [28.5]\n",
            " [28. ]\n",
            " [24. ]\n",
            " [20. ]]\n",
            "y:\n",
            " [['quente']\n",
            " ['muito quente']\n",
            " ['quente']\n",
            " ['quente']\n",
            " ['confortavel']\n",
            " ['frio']]\n"
          ],
          "name": "stdout"
        }
      ]
    },
    {
      "cell_type": "code",
      "metadata": {
        "id": "WzMly_TEgI6c"
      },
      "source": [
        "#pré processamento\n",
        "\n",
        "#labelEncoder= transforma as labels [tolyo, tokyo, paris] em númerico [2,2,1]\n",
        "from sklearn.preprocessing import LabelEncoder\n",
        "\n",
        "LabelEncoder?"
      ],
      "execution_count": 4,
      "outputs": []
    },
    {
      "cell_type": "code",
      "metadata": {
        "id": "diqzn88_hUJm",
        "outputId": "4b3626a6-5292-464b-b0f5-e0b0d9e988e3",
        "colab": {
          "base_uri": "https://localhost:8080/",
          "height": 51
        }
      },
      "source": [
        "#conversão de y para valores númerios \n",
        "le = LabelEncoder() #chamada\n",
        "y = le.fit_transform(y.ravel())\n",
        "print(\"y:\\n\", y)"
      ],
      "execution_count": 5,
      "outputs": [
        {
          "output_type": "stream",
          "text": [
            "y:\n",
            " [3 2 3 3 0 1]\n"
          ],
          "name": "stdout"
        }
      ]
    },
    {
      "cell_type": "code",
      "metadata": {
        "id": "7N0H3b98iPRT"
      },
      "source": [
        "#modelo \n",
        "\n",
        "from sklearn.linear_model import LogisticRegression"
      ],
      "execution_count": 6,
      "outputs": []
    },
    {
      "cell_type": "code",
      "metadata": {
        "id": "qQDHDjVKjkHB",
        "outputId": "2f78566a-dd42-4596-f0d7-98d6fb42a589",
        "colab": {
          "base_uri": "https://localhost:8080/",
          "height": 102
        }
      },
      "source": [
        "#classificador\n",
        "clf=LogisticRegression()\n",
        "clf.fit(x, y)"
      ],
      "execution_count": 7,
      "outputs": [
        {
          "output_type": "execute_result",
          "data": {
            "text/plain": [
              "LogisticRegression(C=1.0, class_weight=None, dual=False, fit_intercept=True,\n",
              "                   intercept_scaling=1, l1_ratio=None, max_iter=100,\n",
              "                   multi_class='auto', n_jobs=None, penalty='l2',\n",
              "                   random_state=None, solver='lbfgs', tol=0.0001, verbose=0,\n",
              "                   warm_start=False)"
            ]
          },
          "metadata": {
            "tags": []
          },
          "execution_count": 7
        }
      ]
    },
    {
      "cell_type": "code",
      "metadata": {
        "id": "Y9z03NS23ksz"
      },
      "source": [
        "#gerando 100 valores de temperatura\n",
        "#linearmente espaçados entre 0 e 45\n",
        "#predição em novos valores de temperatura\n",
        "\n",
        "x_test = np.linspace(start=0., stop=45., num=100).reshape(-1, 1)\n",
        "\n",
        "#predição desses valores\n",
        "\n",
        "y_pred = clf.predict(x_test)"
      ],
      "execution_count": 8,
      "outputs": []
    },
    {
      "cell_type": "code",
      "metadata": {
        "id": "ezUCD51mPPI3",
        "outputId": "0655b3c6-cca4-4647-92b8-6972d706ef17",
        "colab": {
          "base_uri": "https://localhost:8080/",
          "height": 68
        }
      },
      "source": [
        "print(y_pred)"
      ],
      "execution_count": 9,
      "outputs": [
        {
          "output_type": "stream",
          "text": [
            "[1 1 1 1 1 1 1 1 1 1 1 1 1 1 1 1 1 1 1 1 1 1 1 1 1 1 1 1 1 1 1 1 1 1 1 1 1\n",
            " 1 1 1 1 1 1 1 1 1 1 1 1 1 0 0 0 0 0 0 3 3 3 3 3 3 3 3 3 3 3 3 2 2 2 2 2 2\n",
            " 2 2 2 2 2 2 2 2 2 2 2 2 2 2 2 2 2 2 2 2 2 2 2 2 2 2]\n"
          ],
          "name": "stdout"
        }
      ]
    },
    {
      "cell_type": "code",
      "metadata": {
        "id": "gp1kbKXjRy88",
        "outputId": "3f3492ca-b081-493d-cbd7-9f6d2c994530",
        "colab": {
          "base_uri": "https://localhost:8080/",
          "height": 289
        }
      },
      "source": [
        "#conversando de y_pred para os valores originais\n",
        "\n",
        "y_pred = le.inverse_transform(y_pred)\n",
        "print(y_pred)"
      ],
      "execution_count": 10,
      "outputs": [
        {
          "output_type": "stream",
          "text": [
            "['frio' 'frio' 'frio' 'frio' 'frio' 'frio' 'frio' 'frio' 'frio' 'frio'\n",
            " 'frio' 'frio' 'frio' 'frio' 'frio' 'frio' 'frio' 'frio' 'frio' 'frio'\n",
            " 'frio' 'frio' 'frio' 'frio' 'frio' 'frio' 'frio' 'frio' 'frio' 'frio'\n",
            " 'frio' 'frio' 'frio' 'frio' 'frio' 'frio' 'frio' 'frio' 'frio' 'frio'\n",
            " 'frio' 'frio' 'frio' 'frio' 'frio' 'frio' 'frio' 'frio' 'frio' 'frio'\n",
            " 'confortavel' 'confortavel' 'confortavel' 'confortavel' 'confortavel'\n",
            " 'confortavel' 'quente' 'quente' 'quente' 'quente' 'quente' 'quente'\n",
            " 'quente' 'quente' 'quente' 'quente' 'quente' 'quente' 'muito quente'\n",
            " 'muito quente' 'muito quente' 'muito quente' 'muito quente'\n",
            " 'muito quente' 'muito quente' 'muito quente' 'muito quente'\n",
            " 'muito quente' 'muito quente' 'muito quente' 'muito quente'\n",
            " 'muito quente' 'muito quente' 'muito quente' 'muito quente'\n",
            " 'muito quente' 'muito quente' 'muito quente' 'muito quente'\n",
            " 'muito quente' 'muito quente' 'muito quente' 'muito quente'\n",
            " 'muito quente' 'muito quente' 'muito quente' 'muito quente'\n",
            " 'muito quente' 'muito quente' 'muito quente']\n"
          ],
          "name": "stdout"
        }
      ]
    },
    {
      "cell_type": "code",
      "metadata": {
        "id": "nCZBfgWgrXUP"
      },
      "source": [
        "#output\n",
        "\n",
        "output = {'new_temp': x_test.ravel(),\n",
        "          'new_class': y_pred.ravel()}\n",
        "\n",
        "output = pd.DataFrame(output)\n",
        "\n"
      ],
      "execution_count": 11,
      "outputs": []
    },
    {
      "cell_type": "code",
      "metadata": {
        "id": "XEkzVmxQskAW",
        "outputId": "4bd5d07d-06bf-46b7-eb98-b8578753c515",
        "colab": {
          "base_uri": "https://localhost:8080/",
          "height": 170
        }
      },
      "source": [
        "#estatisticas\n",
        "\n",
        "output.info()"
      ],
      "execution_count": 12,
      "outputs": [
        {
          "output_type": "stream",
          "text": [
            "<class 'pandas.core.frame.DataFrame'>\n",
            "RangeIndex: 100 entries, 0 to 99\n",
            "Data columns (total 2 columns):\n",
            " #   Column     Non-Null Count  Dtype  \n",
            "---  ------     --------------  -----  \n",
            " 0   new_temp   100 non-null    float64\n",
            " 1   new_class  100 non-null    object \n",
            "dtypes: float64(1), object(1)\n",
            "memory usage: 1.7+ KB\n"
          ],
          "name": "stdout"
        }
      ]
    },
    {
      "cell_type": "code",
      "metadata": {
        "id": "nqI6tCQztV95",
        "outputId": "156a9eb7-4c8b-425e-8dd0-6a6ebb8e4891",
        "colab": {
          "base_uri": "https://localhost:8080/",
          "height": 297
        }
      },
      "source": [
        "#estatisticas\n",
        "\n",
        "output.describe()"
      ],
      "execution_count": 13,
      "outputs": [
        {
          "output_type": "execute_result",
          "data": {
            "text/html": [
              "<div>\n",
              "<style scoped>\n",
              "    .dataframe tbody tr th:only-of-type {\n",
              "        vertical-align: middle;\n",
              "    }\n",
              "\n",
              "    .dataframe tbody tr th {\n",
              "        vertical-align: top;\n",
              "    }\n",
              "\n",
              "    .dataframe thead th {\n",
              "        text-align: right;\n",
              "    }\n",
              "</style>\n",
              "<table border=\"1\" class=\"dataframe\">\n",
              "  <thead>\n",
              "    <tr style=\"text-align: right;\">\n",
              "      <th></th>\n",
              "      <th>new_temp</th>\n",
              "    </tr>\n",
              "  </thead>\n",
              "  <tbody>\n",
              "    <tr>\n",
              "      <th>count</th>\n",
              "      <td>100.000000</td>\n",
              "    </tr>\n",
              "    <tr>\n",
              "      <th>mean</th>\n",
              "      <td>22.500000</td>\n",
              "    </tr>\n",
              "    <tr>\n",
              "      <th>std</th>\n",
              "      <td>13.187042</td>\n",
              "    </tr>\n",
              "    <tr>\n",
              "      <th>min</th>\n",
              "      <td>0.000000</td>\n",
              "    </tr>\n",
              "    <tr>\n",
              "      <th>25%</th>\n",
              "      <td>11.250000</td>\n",
              "    </tr>\n",
              "    <tr>\n",
              "      <th>50%</th>\n",
              "      <td>22.500000</td>\n",
              "    </tr>\n",
              "    <tr>\n",
              "      <th>75%</th>\n",
              "      <td>33.750000</td>\n",
              "    </tr>\n",
              "    <tr>\n",
              "      <th>max</th>\n",
              "      <td>45.000000</td>\n",
              "    </tr>\n",
              "  </tbody>\n",
              "</table>\n",
              "</div>"
            ],
            "text/plain": [
              "         new_temp\n",
              "count  100.000000\n",
              "mean    22.500000\n",
              "std     13.187042\n",
              "min      0.000000\n",
              "25%     11.250000\n",
              "50%     22.500000\n",
              "75%     33.750000\n",
              "max     45.000000"
            ]
          },
          "metadata": {
            "tags": []
          },
          "execution_count": 13
        }
      ]
    },
    {
      "cell_type": "code",
      "metadata": {
        "id": "Vepsr_fotZtn",
        "outputId": "acc3746a-ef28-4016-edba-a5383611e525",
        "colab": {
          "base_uri": "https://localhost:8080/",
          "height": 336
        }
      },
      "source": [
        "#contagem de valores gerados\n",
        "output['new_class'].value_counts().plot.bar(figsize=(10, 5),\n",
        "                                            rot=0,\n",
        "                                            title=\"# de novos valores gerados\");"
      ],
      "execution_count": 14,
      "outputs": [
        {
          "output_type": "display_data",
          "data": {
            "image/png": "[encoded data removed]",
            "text/plain": [
              "<Figure size 720x360 with 1 Axes>"
            ]
          },
          "metadata": {
            "tags": [],
            "needs_background": "light"
          }
        }
      ]
    },
    {
      "cell_type": "code",
      "metadata": {
        "id": "UVS8TizwNDX2",
        "outputId": "02c2b9f1-6dc8-4c4c-99e6-edade6bd7c0a",
        "colab": {
          "base_uri": "https://localhost:8080/",
          "height": 362
        }
      },
      "source": [
        "#distribuição do output produzido \n",
        "#conseguimos inferir a classificação novas temperaturas\n",
        "#a partir de um dataset com 6 exemplos\n",
        "\n",
        "output.boxplot(by='new_class', figsize=(10,5));\n"
      ],
      "execution_count": 15,
      "outputs": [
        {
          "output_type": "display_data",
          "data": {
            "image/png": "[encoded data removed]",
            "text/plain": [
              "<Figure size 720x360 with 1 Axes>"
            ]
          },
          "metadata": {
            "tags": [],
            "needs_background": "light"
          }
        }
      ]
    },
    {
      "cell_type": "code",
      "metadata": {
        "id": "McB2vF6hRh3S"
      },
      "source": [
        "#sistema automático\n",
        "def classify_temp():\n",
        "  \"\"\"Classifica o input do usuário.\"\"\"\n",
        "\n",
        "  ask = True\n",
        "  while ask:\n",
        "    #inpuut de temperatura\n",
        "    temp = input(\"Insira a temperatura (graus Celsius): \")\n",
        "\n",
        "    #transformar para numpy array\n",
        "    temp = np.array(float(temp)).reshape(-1, 1)\n",
        "\n",
        "    #realiza a classificação\n",
        "    class_temp = clf.predict(temp)\n",
        "\n",
        "    #transformação inversa para retornar a string original\n",
        "    class_temp = le.inverse_transform(class_temp)\n",
        "\n",
        "    #classificação\n",
        "    print(f\"A classificação da temperatura {temp.ravel()[0]} é:\", class_temp[0])\n",
        "\n",
        "    #perguntar\n",
        "    ask = input(\"Nova classificação (y/n): \") == 'y'"
      ],
      "execution_count": 16,
      "outputs": []
    },
    {
      "cell_type": "code",
      "metadata": {
        "id": "9PWLYtTgVmEX",
        "outputId": "6071e54e-bdf1-4965-cf1b-d33b919eeea8",
        "colab": {
          "base_uri": "https://localhost:8080/",
          "height": 68
        }
      },
      "source": [
        "#rodando o programa\n",
        "classify_temp()"
      ],
      "execution_count": 17,
      "outputs": [
        {
          "output_type": "stream",
          "text": [
            "Insira a temperatura (graus Celsius): 19\n",
            "A classificação da temperatura 19.0 é: frio\n",
            "Nova classificação (y/n): n\n"
          ],
          "name": "stdout"
        }
      ]
    },
    {
      "cell_type": "markdown",
      "metadata": {
        "id": "COFC8BXxaAK4"
      },
      "source": [
        "**REGRESSÃO LINEAR COM SCIKIT-LEARN**"
      ]
    },
    {
      "cell_type": "code",
      "metadata": {
        "id": "oYdLUTYjaFXD"
      },
      "source": [
        "#dados \n",
        "\n",
        "x =[-1., -0.7777778, -0.55555556, -0.33333333, -0.11111111,\n",
        "    0.11111111, 0.33333333, 0.55555555, 0.77777778, 1.]\n",
        "\n",
        "y = [-1.13956201, -0.57117999, 0.21697033, 0.5425699, 0.49406657,\n",
        "     1.14972239, 1.64228553, 2.1749824, 2.64773614, 2.95684282]\n",
        "     "
      ],
      "execution_count": 18,
      "outputs": []
    },
    {
      "cell_type": "code",
      "metadata": {
        "id": "w8B6bzU-f0NB",
        "outputId": "9d0d46a0-d1b3-444f-8e9f-ebbfe6630331",
        "colab": {
          "base_uri": "https://localhost:8080/",
          "height": 334
        }
      },
      "source": [
        "#plot dos dados \n",
        "\n",
        "plt.figure(figsize=(10, 5))\n",
        "plt.plot(x, y, 'o', label='dados originais')\n",
        "plt.legend()\n",
        "plt.xlabel(\"x\")\n",
        "plt.ylabel(\"y\")\n",
        "plt.grid()\n",
        "plt.show()\n"
      ],
      "execution_count": 19,
      "outputs": [
        {
          "output_type": "display_data",
          "data": {
            "image/png": "[encoded data removed]",
            "text/plain": [
              "<Figure size 720x360 with 1 Axes>"
            ]
          },
          "metadata": {
            "tags": [],
            "needs_background": "light"
          }
        }
      ]
    },
    {
      "cell_type": "code",
      "metadata": {
        "id": "M1NSJOfjj0-c"
      },
      "source": [
        "#transformando em numpy array\n",
        "\n",
        "x,y = np.array(x).reshape(-1, 1), np.array(y).reshape(-1, 1)\n"
      ],
      "execution_count": 20,
      "outputs": []
    },
    {
      "cell_type": "code",
      "metadata": {
        "id": "_XW86UyskBtA"
      },
      "source": [
        "#modelo\n",
        "from sklearn.linear_model import LinearRegression"
      ],
      "execution_count": 28,
      "outputs": []
    },
    {
      "cell_type": "code",
      "metadata": {
        "id": "7nzADT_YkRvT",
        "outputId": "6e6b01dd-343f-452c-b043-00c6b3c7eac1",
        "colab": {
          "base_uri": "https://localhost:8080/",
          "height": 34
        }
      },
      "source": [
        "#reinando o modelo: y = a*x + b, valores reais (a, b) = (2, 1)\n",
        "reg = LinearRegression()\n",
        "reg.fit(x, y)"
      ],
      "execution_count": 29,
      "outputs": [
        {
          "output_type": "execute_result",
          "data": {
            "text/plain": [
              "LinearRegression(copy_X=True, fit_intercept=True, n_jobs=None, normalize=False)"
            ]
          },
          "metadata": {
            "tags": []
          },
          "execution_count": 29
        }
      ]
    },
    {
      "cell_type": "code",
      "metadata": {
        "id": "Q_P7vCRek2qq",
        "outputId": "8e3602ef-4eee-400c-baa9-37ed37b765f6",
        "colab": {
          "base_uri": "https://localhost:8080/",
          "height": 51
        }
      },
      "source": [
        "#coeficientes a,b estimados: \n",
        "#valores estimados usando o numpy diretamente\n",
        "# a estimado no  numpy: 2.05414951\n",
        "#b estimado no numpy: 0.96798296\n",
        "\n",
        "print(\"a estimado:\", reg.coef_.ravel()[0])\n",
        "print(\"b estimado:\", reg.intercept_[0])\n"
      ],
      "execution_count": 30,
      "outputs": [
        {
          "output_type": "stream",
          "text": [
            "a estimado: 1.9948614314030233\n",
            "b estimado: 1.0114434139845843\n"
          ],
          "name": "stdout"
        }
      ]
    },
    {
      "cell_type": "code",
      "metadata": {
        "id": "1Ov9qv6GkcXM"
      },
      "source": [
        "#predição do modelo\n",
        "\n",
        "y_pred = reg.predict(x)"
      ],
      "execution_count": 37,
      "outputs": []
    },
    {
      "cell_type": "code",
      "metadata": {
        "id": "LMZBrn4_klgS",
        "outputId": "8921f310-522e-4be9-cd4b-e76f674d7493",
        "colab": {
          "base_uri": "https://localhost:8080/",
          "height": 34
        }
      },
      "source": [
        "#score do modelo\n",
        "\n",
        "score = reg.score(x, y)\n",
        "print(\"score:\", score)"
      ],
      "execution_count": 38,
      "outputs": [
        {
          "output_type": "stream",
          "text": [
            "score: 0.9835890762556542\n"
          ],
          "name": "stdout"
        }
      ]
    },
    {
      "cell_type": "code",
      "metadata": {
        "id": "yFj_0TW9kwu2",
        "outputId": "40d48a25-a31c-4bf8-a4e4-f57bcf2d57d8",
        "colab": {
          "base_uri": "https://localhost:8080/",
          "height": 350
        }
      },
      "source": [
        "#plot dos dados\n",
        "\n",
        "plt.figure(figsize=(10, 5))\n",
        "plt.plot(x, y, 'o', label ='dados originais')\n",
        "plt.plot(x, y_pred, label = 'regressão linear (R2: {:.3f})'.format(score))\n",
        "plt.hlines(y=y.mean(), xmin=x.min(), xmax=x.max(), linestyle='dashed', label='Modelo de referência do $R^25')\n",
        "plt.legend()\n",
        "plt.xlabel(\"x\")\n",
        "plt.ylabel(\"y\")\n",
        "plt.title(\"Regressão Linear no scikit-learn\")\n",
        "plt.grid()\n",
        "plt.show()"
      ],
      "execution_count": 40,
      "outputs": [
        {
          "output_type": "display_data",
          "data": {
            "image/png": "[encoded data removed]",
            "text/plain": [
              "<Figure size 720x360 with 1 Axes>"
            ]
          },
          "metadata": {
            "tags": [],
            "needs_background": "light"
          }
        }
      ]
    },
    {
      "cell_type": "markdown",
      "metadata": {
        "id": "DIBJMgRcqjvL"
      },
      "source": [
        "**Regressão Linear 2**\n"
      ]
    },
    {
      "cell_type": "code",
      "metadata": {
        "id": "uYZ7MRN5swXs"
      },
      "source": [
        "#Função para cláculo do MSE\n",
        "\n",
        "def mse(y_true, y_pred, is_ref=False):\n",
        "\n",
        "  #mse modelo\n",
        "  if is_ref:\n",
        "    mse = ((y_true - y_true.mean()) **2).mean()\n",
        "  else:\n",
        "    mse = ((y_true - y_pred) ** 2).mean()\n",
        "\n",
        "  return mse"
      ],
      "execution_count": 43,
      "outputs": []
    },
    {
      "cell_type": "code",
      "metadata": {
        "id": "taeCL8ZEvyph"
      },
      "source": [
        "#Função para cálculo do coeficiente de determinação R2\n",
        "\n",
        "def r2(mse_reg, mse_ref):\n",
        "  return 1 - mse_reg/mse_ref"
      ],
      "execution_count": 44,
      "outputs": []
    },
    {
      "cell_type": "code",
      "metadata": {
        "id": "3Bg5qr0MwNMv",
        "outputId": "bb50c99d-9afb-45e1-c50b-ff6d0b2516e0",
        "colab": {
          "base_uri": "https://localhost:8080/",
          "height": 85
        }
      },
      "source": [
        "#visualizando y e y_pred\n",
        "\n",
        "print(\"y_true:\", y.ravel())\n",
        "print(\"y_pred:\", y_pred.ravel())\n"
      ],
      "execution_count": 45,
      "outputs": [
        {
          "output_type": "stream",
          "text": [
            "y_true: [-1.13956201 -0.57117999  0.21697033  0.5425699   0.49406657  1.14972239\n",
            "  1.64228553  2.1749824   2.64773614  2.95684282]\n",
            "y_pred: [-0.98341802 -0.54011552 -0.09681295  0.34648961  0.78979215  1.23309468\n",
            "  1.67639722  2.11969975  2.56300231  3.00630485]\n"
          ],
          "name": "stdout"
        }
      ]
    },
    {
      "cell_type": "code",
      "metadata": {
        "id": "1yCZ0qJVwdVT",
        "outputId": "a8f3bb6b-62c8-4347-bbbd-1baaa0b2d3ec",
        "colab": {
          "base_uri": "https://localhost:8080/",
          "height": 51
        }
      },
      "source": [
        "#calculando o mse dos modelos\n",
        "\n",
        "mse_reg = mse(y_true=y, y_pred=y_pred)\n",
        "print(\"MSE do modelo de regressão:\", mse_reg)\n",
        "mse_ref = mse(y_true=y, y_pred=y_pred, is_ref=True)\n",
        "print(\"MSE do modelo de referência:\", mse_ref)"
      ],
      "execution_count": 46,
      "outputs": [
        {
          "output_type": "stream",
          "text": [
            "MSE do modelo de regressão: 0.027050401937392648\n",
            "MSE do modelo de referência: 1.6483168381495084\n"
          ],
          "name": "stdout"
        }
      ]
    },
    {
      "cell_type": "code",
      "metadata": {
        "id": "xVP43sJNxVye",
        "outputId": "bb88d746-04cd-4630-b90e-a26843a3c1c8",
        "colab": {
          "base_uri": "https://localhost:8080/",
          "height": 34
        }
      },
      "source": [
        "#calculando o R2 score\n",
        "\n",
        "r2_score = r2(mse_reg=mse_reg, mse_ref=mse_ref)\n",
        "print(\"Coeficiente R2 do modelo implementado (calcullado:\", r2_score)"
      ],
      "execution_count": 47,
      "outputs": [
        {
          "output_type": "stream",
          "text": [
            "Coeficiente R2 do modelo implementado (calcullado: 0.9835890762556543\n"
          ],
          "name": "stdout"
        }
      ]
    },
    {
      "cell_type": "code",
      "metadata": {
        "id": "IK1F89fKxr_x",
        "outputId": "0c056205-37a3-4951-c53c-ab26a3aca723",
        "colab": {
          "base_uri": "https://localhost:8080/",
          "height": 34
        }
      },
      "source": [
        "#score retornado pelo scikit-learn\n",
        "r2_score_skl = reg.score(x, y)\n",
        "print(\"Coeficiente R2 do modelo implementado (scikit-learn):\", r2_score_skl)"
      ],
      "execution_count": 48,
      "outputs": [
        {
          "output_type": "stream",
          "text": [
            "Coeficiente R2 do modelo implementado (scikit-learn): 0.9835890762556542\n"
          ],
          "name": "stdout"
        }
      ]
    }
  ]
}