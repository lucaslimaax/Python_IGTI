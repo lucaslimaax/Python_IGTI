{
  "nbformat": 4,
  "nbformat_minor": 0,
  "metadata": {
    "colab": {
      "name": "indexacao.ipynb",
      "provenance": [],
      "collapsed_sections": []
    },
    "kernelspec": {
      "name": "python3",
      "display_name": "Python 3"
    }
  },
  "cells": [
    {
      "cell_type": "code",
      "metadata": {
        "id": "3Jv_PY81E0O4",
        "outputId": "4475c394-980c-42dc-8c01-3ff7155d5a51",
        "colab": {
          "base_uri": "https://localhost:8080/",
          "height": 235
        }
      },
      "source": [
        "#indexacao no pandas\n",
        "\n",
        "import pandas as pd\n",
        "\n",
        "df = pd.read_csv(\"https://pycourse.s3.amazonaws.com/temperature.csv\")\n",
        "df"
      ],
      "execution_count": 1,
      "outputs": [
        {
          "output_type": "execute_result",
          "data": {
            "text/html": [
              "<div>\n",
              "<style scoped>\n",
              "    .dataframe tbody tr th:only-of-type {\n",
              "        vertical-align: middle;\n",
              "    }\n",
              "\n",
              "    .dataframe tbody tr th {\n",
              "        vertical-align: top;\n",
              "    }\n",
              "\n",
              "    .dataframe thead th {\n",
              "        text-align: right;\n",
              "    }\n",
              "</style>\n",
              "<table border=\"1\" class=\"dataframe\">\n",
              "  <thead>\n",
              "    <tr style=\"text-align: right;\">\n",
              "      <th></th>\n",
              "      <th>date</th>\n",
              "      <th>temperatura</th>\n",
              "      <th>classification</th>\n",
              "    </tr>\n",
              "  </thead>\n",
              "  <tbody>\n",
              "    <tr>\n",
              "      <th>0</th>\n",
              "      <td>2020-01-01</td>\n",
              "      <td>29.1</td>\n",
              "      <td>quente</td>\n",
              "    </tr>\n",
              "    <tr>\n",
              "      <th>1</th>\n",
              "      <td>2020-02-01</td>\n",
              "      <td>31.2</td>\n",
              "      <td>muito quente</td>\n",
              "    </tr>\n",
              "    <tr>\n",
              "      <th>2</th>\n",
              "      <td>2020-03-01</td>\n",
              "      <td>28.5</td>\n",
              "      <td>quente</td>\n",
              "    </tr>\n",
              "    <tr>\n",
              "      <th>3</th>\n",
              "      <td>2020-04-01</td>\n",
              "      <td>28.0</td>\n",
              "      <td>quente</td>\n",
              "    </tr>\n",
              "    <tr>\n",
              "      <th>4</th>\n",
              "      <td>2020-05-01</td>\n",
              "      <td>24.0</td>\n",
              "      <td>confortavel</td>\n",
              "    </tr>\n",
              "    <tr>\n",
              "      <th>5</th>\n",
              "      <td>2020-06-01</td>\n",
              "      <td>20.0</td>\n",
              "      <td>frio</td>\n",
              "    </tr>\n",
              "  </tbody>\n",
              "</table>\n",
              "</div>"
            ],
            "text/plain": [
              "         date  temperatura classification\n",
              "0  2020-01-01         29.1         quente\n",
              "1  2020-02-01         31.2   muito quente\n",
              "2  2020-03-01         28.5         quente\n",
              "3  2020-04-01         28.0         quente\n",
              "4  2020-05-01         24.0    confortavel\n",
              "5  2020-06-01         20.0           frio"
            ]
          },
          "metadata": {
            "tags": []
          },
          "execution_count": 1
        }
      ]
    },
    {
      "cell_type": "code",
      "metadata": {
        "id": "B9RHTaNkHH3M",
        "outputId": "8c8a671a-09ef-4c10-d49a-08dda779a5c8",
        "colab": {
          "base_uri": "https://localhost:8080/",
          "height": 136
        }
      },
      "source": [
        "df.head"
      ],
      "execution_count": 2,
      "outputs": [
        {
          "output_type": "execute_result",
          "data": {
            "text/plain": [
              "<bound method NDFrame.head of          date  temperatura classification\n",
              "0  2020-01-01         29.1         quente\n",
              "1  2020-02-01         31.2   muito quente\n",
              "2  2020-03-01         28.5         quente\n",
              "3  2020-04-01         28.0         quente\n",
              "4  2020-05-01         24.0    confortavel\n",
              "5  2020-06-01         20.0           frio>"
            ]
          },
          "metadata": {
            "tags": []
          },
          "execution_count": 2
        }
      ]
    },
    {
      "cell_type": "code",
      "metadata": {
        "id": "VOJjLShuHL3Z",
        "outputId": "824adc1d-fb46-40ad-948c-aa5ca1657ea4",
        "colab": {
          "base_uri": "https://localhost:8080/",
          "height": 136
        }
      },
      "source": [
        "#seleção de uma coluna\n",
        "df['date']"
      ],
      "execution_count": 3,
      "outputs": [
        {
          "output_type": "execute_result",
          "data": {
            "text/plain": [
              "0    2020-01-01\n",
              "1    2020-02-01\n",
              "2    2020-03-01\n",
              "3    2020-04-01\n",
              "4    2020-05-01\n",
              "5    2020-06-01\n",
              "Name: date, dtype: object"
            ]
          },
          "metadata": {
            "tags": []
          },
          "execution_count": 3
        }
      ]
    },
    {
      "cell_type": "code",
      "metadata": {
        "id": "-oM6Na9mHQUG",
        "outputId": "a0aa297b-592f-4594-e353-940e4fa34551",
        "colab": {
          "base_uri": "https://localhost:8080/",
          "height": 34
        }
      },
      "source": [
        "#tipo\n",
        "type([df['date']])"
      ],
      "execution_count": 4,
      "outputs": [
        {
          "output_type": "execute_result",
          "data": {
            "text/plain": [
              "list"
            ]
          },
          "metadata": {
            "tags": []
          },
          "execution_count": 4
        }
      ]
    },
    {
      "cell_type": "code",
      "metadata": {
        "id": "koNYT1V0HVHO",
        "outputId": "b26229f3-3424-4aa6-ffb7-f27e8594571c",
        "colab": {
          "base_uri": "https://localhost:8080/",
          "height": 235
        }
      },
      "source": [
        "#seleção de múltiplas colunas\n",
        "df[['date', 'classification']]"
      ],
      "execution_count": 5,
      "outputs": [
        {
          "output_type": "execute_result",
          "data": {
            "text/html": [
              "<div>\n",
              "<style scoped>\n",
              "    .dataframe tbody tr th:only-of-type {\n",
              "        vertical-align: middle;\n",
              "    }\n",
              "\n",
              "    .dataframe tbody tr th {\n",
              "        vertical-align: top;\n",
              "    }\n",
              "\n",
              "    .dataframe thead th {\n",
              "        text-align: right;\n",
              "    }\n",
              "</style>\n",
              "<table border=\"1\" class=\"dataframe\">\n",
              "  <thead>\n",
              "    <tr style=\"text-align: right;\">\n",
              "      <th></th>\n",
              "      <th>date</th>\n",
              "      <th>classification</th>\n",
              "    </tr>\n",
              "  </thead>\n",
              "  <tbody>\n",
              "    <tr>\n",
              "      <th>0</th>\n",
              "      <td>2020-01-01</td>\n",
              "      <td>quente</td>\n",
              "    </tr>\n",
              "    <tr>\n",
              "      <th>1</th>\n",
              "      <td>2020-02-01</td>\n",
              "      <td>muito quente</td>\n",
              "    </tr>\n",
              "    <tr>\n",
              "      <th>2</th>\n",
              "      <td>2020-03-01</td>\n",
              "      <td>quente</td>\n",
              "    </tr>\n",
              "    <tr>\n",
              "      <th>3</th>\n",
              "      <td>2020-04-01</td>\n",
              "      <td>quente</td>\n",
              "    </tr>\n",
              "    <tr>\n",
              "      <th>4</th>\n",
              "      <td>2020-05-01</td>\n",
              "      <td>confortavel</td>\n",
              "    </tr>\n",
              "    <tr>\n",
              "      <th>5</th>\n",
              "      <td>2020-06-01</td>\n",
              "      <td>frio</td>\n",
              "    </tr>\n",
              "  </tbody>\n",
              "</table>\n",
              "</div>"
            ],
            "text/plain": [
              "         date classification\n",
              "0  2020-01-01         quente\n",
              "1  2020-02-01   muito quente\n",
              "2  2020-03-01         quente\n",
              "3  2020-04-01         quente\n",
              "4  2020-05-01    confortavel\n",
              "5  2020-06-01           frio"
            ]
          },
          "metadata": {
            "tags": []
          },
          "execution_count": 5
        }
      ]
    },
    {
      "cell_type": "code",
      "metadata": {
        "id": "x4DFZLvuHpqs",
        "outputId": "9e9ac4b6-a7dd-4930-b5e5-8e651bb57baf",
        "colab": {
          "base_uri": "https://localhost:8080/",
          "height": 34
        }
      },
      "source": [
        "#tipo\n",
        "type(df[['date', 'classification']])"
      ],
      "execution_count": 7,
      "outputs": [
        {
          "output_type": "execute_result",
          "data": {
            "text/plain": [
              "pandas.core.frame.DataFrame"
            ]
          },
          "metadata": {
            "tags": []
          },
          "execution_count": 7
        }
      ]
    },
    {
      "cell_type": "code",
      "metadata": {
        "id": "CmeoU_KHH8m-",
        "outputId": "d96f1d84-3c76-4e56-f65c-f3dcdc7e2db5",
        "colab": {
          "base_uri": "https://localhost:8080/",
          "height": 1000
        }
      },
      "source": [
        "#iloc\n",
        "\n",
        "help(df.iloc)"
      ],
      "execution_count": 9,
      "outputs": [
        {
          "output_type": "stream",
          "text": [
            "Help on _iLocIndexer in module pandas.core.indexing object:\n",
            "\n",
            "class _iLocIndexer(_LocationIndexer)\n",
            " |  Purely integer-location based indexing for selection by position.\n",
            " |  \n",
            " |  ``.iloc[]`` is primarily integer position based (from ``0`` to\n",
            " |  ``length-1`` of the axis), but may also be used with a boolean\n",
            " |  array.\n",
            " |  \n",
            " |  Allowed inputs are:\n",
            " |  \n",
            " |  - An integer, e.g. ``5``.\n",
            " |  - A list or array of integers, e.g. ``[4, 3, 0]``.\n",
            " |  - A slice object with ints, e.g. ``1:7``.\n",
            " |  - A boolean array.\n",
            " |  - A ``callable`` function with one argument (the calling Series or\n",
            " |    DataFrame) and that returns valid output for indexing (one of the above).\n",
            " |    This is useful in method chains, when you don't have a reference to the\n",
            " |    calling object, but would like to base your selection on some value.\n",
            " |  \n",
            " |  ``.iloc`` will raise ``IndexError`` if a requested indexer is\n",
            " |  out-of-bounds, except *slice* indexers which allow out-of-bounds\n",
            " |  indexing (this conforms with python/numpy *slice* semantics).\n",
            " |  \n",
            " |  See more at :ref:`Selection by Position <indexing.integer>`.\n",
            " |  \n",
            " |  See Also\n",
            " |  --------\n",
            " |  DataFrame.iat : Fast integer location scalar accessor.\n",
            " |  DataFrame.loc : Purely label-location based indexer for selection by label.\n",
            " |  Series.iloc : Purely integer-location based indexing for\n",
            " |                 selection by position.\n",
            " |  \n",
            " |  Examples\n",
            " |  --------\n",
            " |  >>> mydict = [{'a': 1, 'b': 2, 'c': 3, 'd': 4},\n",
            " |  ...           {'a': 100, 'b': 200, 'c': 300, 'd': 400},\n",
            " |  ...           {'a': 1000, 'b': 2000, 'c': 3000, 'd': 4000 }]\n",
            " |  >>> df = pd.DataFrame(mydict)\n",
            " |  >>> df\n",
            " |        a     b     c     d\n",
            " |  0     1     2     3     4\n",
            " |  1   100   200   300   400\n",
            " |  2  1000  2000  3000  4000\n",
            " |  \n",
            " |  **Indexing just the rows**\n",
            " |  \n",
            " |  With a scalar integer.\n",
            " |  \n",
            " |  >>> type(df.iloc[0])\n",
            " |  <class 'pandas.core.series.Series'>\n",
            " |  >>> df.iloc[0]\n",
            " |  a    1\n",
            " |  b    2\n",
            " |  c    3\n",
            " |  d    4\n",
            " |  Name: 0, dtype: int64\n",
            " |  \n",
            " |  With a list of integers.\n",
            " |  \n",
            " |  >>> df.iloc[[0]]\n",
            " |     a  b  c  d\n",
            " |  0  1  2  3  4\n",
            " |  >>> type(df.iloc[[0]])\n",
            " |  <class 'pandas.core.frame.DataFrame'>\n",
            " |  \n",
            " |  >>> df.iloc[[0, 1]]\n",
            " |       a    b    c    d\n",
            " |  0    1    2    3    4\n",
            " |  1  100  200  300  400\n",
            " |  \n",
            " |  With a `slice` object.\n",
            " |  \n",
            " |  >>> df.iloc[:3]\n",
            " |        a     b     c     d\n",
            " |  0     1     2     3     4\n",
            " |  1   100   200   300   400\n",
            " |  2  1000  2000  3000  4000\n",
            " |  \n",
            " |  With a boolean mask the same length as the index.\n",
            " |  \n",
            " |  >>> df.iloc[[True, False, True]]\n",
            " |        a     b     c     d\n",
            " |  0     1     2     3     4\n",
            " |  2  1000  2000  3000  4000\n",
            " |  \n",
            " |  With a callable, useful in method chains. The `x` passed\n",
            " |  to the ``lambda`` is the DataFrame being sliced. This selects\n",
            " |  the rows whose index label even.\n",
            " |  \n",
            " |  >>> df.iloc[lambda x: x.index % 2 == 0]\n",
            " |        a     b     c     d\n",
            " |  0     1     2     3     4\n",
            " |  2  1000  2000  3000  4000\n",
            " |  \n",
            " |  **Indexing both axes**\n",
            " |  \n",
            " |  You can mix the indexer types for the index and columns. Use ``:`` to\n",
            " |  select the entire axis.\n",
            " |  \n",
            " |  With scalar integers.\n",
            " |  \n",
            " |  >>> df.iloc[0, 1]\n",
            " |  2\n",
            " |  \n",
            " |  With lists of integers.\n",
            " |  \n",
            " |  >>> df.iloc[[0, 2], [1, 3]]\n",
            " |        b     d\n",
            " |  0     2     4\n",
            " |  2  2000  4000\n",
            " |  \n",
            " |  With `slice` objects.\n",
            " |  \n",
            " |  >>> df.iloc[1:3, 0:3]\n",
            " |        a     b     c\n",
            " |  1   100   200   300\n",
            " |  2  1000  2000  3000\n",
            " |  \n",
            " |  With a boolean array whose length matches the columns.\n",
            " |  \n",
            " |  >>> df.iloc[:, [True, False, True, False]]\n",
            " |        a     c\n",
            " |  0     1     3\n",
            " |  1   100   300\n",
            " |  2  1000  3000\n",
            " |  \n",
            " |  With a callable function that expects the Series or DataFrame.\n",
            " |  \n",
            " |  >>> df.iloc[:, lambda df: [0, 2]]\n",
            " |        a     c\n",
            " |  0     1     3\n",
            " |  1   100   300\n",
            " |  2  1000  3000\n",
            " |  \n",
            " |  Method resolution order:\n",
            " |      _iLocIndexer\n",
            " |      _LocationIndexer\n",
            " |      pandas._libs.indexing._NDFrameIndexerBase\n",
            " |      builtins.object\n",
            " |  \n",
            " |  Methods inherited from _LocationIndexer:\n",
            " |  \n",
            " |  __call__(self, axis=None)\n",
            " |      Call self as a function.\n",
            " |  \n",
            " |  __getitem__(self, key)\n",
            " |  \n",
            " |  __setitem__(self, key, value)\n",
            " |  \n",
            " |  ----------------------------------------------------------------------\n",
            " |  Data descriptors inherited from _LocationIndexer:\n",
            " |  \n",
            " |  __dict__\n",
            " |      dictionary for instance variables (if defined)\n",
            " |  \n",
            " |  __weakref__\n",
            " |      list of weak references to the object (if defined)\n",
            " |  \n",
            " |  ----------------------------------------------------------------------\n",
            " |  Data and other attributes inherited from _LocationIndexer:\n",
            " |  \n",
            " |  __annotations__ = {'_valid_types': <class 'str'>}\n",
            " |  \n",
            " |  axis = None\n",
            " |  \n",
            " |  ----------------------------------------------------------------------\n",
            " |  Methods inherited from pandas._libs.indexing._NDFrameIndexerBase:\n",
            " |  \n",
            " |  __init__(self, /, *args, **kwargs)\n",
            " |      Initialize self.  See help(type(self)) for accurate signature.\n",
            " |  \n",
            " |  __new__(*args, **kwargs) from builtins.type\n",
            " |      Create and return a new object.  See help(type) for accurate signature.\n",
            " |  \n",
            " |  __reduce__ = __reduce_cython__(...)\n",
            " |  \n",
            " |  __setstate__ = __setstate_cython__(...)\n",
            " |  \n",
            " |  ----------------------------------------------------------------------\n",
            " |  Data descriptors inherited from pandas._libs.indexing._NDFrameIndexerBase:\n",
            " |  \n",
            " |  name\n",
            " |  \n",
            " |  ndim\n",
            " |  \n",
            " |  obj\n",
            "\n"
          ],
          "name": "stdout"
        }
      ]
    },
    {
      "cell_type": "code",
      "metadata": {
        "id": "h8tcDKQ-IPFJ",
        "outputId": "58fa354a-ddf9-4074-8dc2-6068917eb4bc",
        "colab": {
          "base_uri": "https://localhost:8080/",
          "height": 136
        }
      },
      "source": [
        "#indexao por índice \n",
        "#selecionando todas as linhas e a coluna 1\n",
        "#coluna 1: temperatura\n",
        "\n",
        "df.iloc[:, 1]"
      ],
      "execution_count": 10,
      "outputs": [
        {
          "output_type": "execute_result",
          "data": {
            "text/plain": [
              "0    29.1\n",
              "1    31.2\n",
              "2    28.5\n",
              "3    28.0\n",
              "4    24.0\n",
              "5    20.0\n",
              "Name: temperatura, dtype: float64"
            ]
          },
          "metadata": {
            "tags": []
          },
          "execution_count": 10
        }
      ]
    },
    {
      "cell_type": "code",
      "metadata": {
        "id": "6WR-iGlqIf5K",
        "outputId": "c274212d-4d5b-44dd-e47e-993b1ba144f7",
        "colab": {
          "base_uri": "https://localhost:8080/",
          "height": 136
        }
      },
      "source": [
        "#indexação  por nome \n",
        "#selecionando todas as linhas e a coluna 1\n",
        "\n",
        "df.loc[:, 'temperatura']"
      ],
      "execution_count": 11,
      "outputs": [
        {
          "output_type": "execute_result",
          "data": {
            "text/plain": [
              "0    29.1\n",
              "1    31.2\n",
              "2    28.5\n",
              "3    28.0\n",
              "4    24.0\n",
              "5    20.0\n",
              "Name: temperatura, dtype: float64"
            ]
          },
          "metadata": {
            "tags": []
          },
          "execution_count": 11
        }
      ]
    },
    {
      "cell_type": "code",
      "metadata": {
        "id": "hHpWNma9IyxC",
        "outputId": "3de96839-be6d-4349-9bc8-080541cf8482",
        "colab": {
          "base_uri": "https://localhost:8080/",
          "height": 235
        }
      },
      "source": [
        "#indexação por índice de múltiplas colunas\n",
        "\n",
        "df.iloc[:, 1:3]"
      ],
      "execution_count": 13,
      "outputs": [
        {
          "output_type": "execute_result",
          "data": {
            "text/html": [
              "<div>\n",
              "<style scoped>\n",
              "    .dataframe tbody tr th:only-of-type {\n",
              "        vertical-align: middle;\n",
              "    }\n",
              "\n",
              "    .dataframe tbody tr th {\n",
              "        vertical-align: top;\n",
              "    }\n",
              "\n",
              "    .dataframe thead th {\n",
              "        text-align: right;\n",
              "    }\n",
              "</style>\n",
              "<table border=\"1\" class=\"dataframe\">\n",
              "  <thead>\n",
              "    <tr style=\"text-align: right;\">\n",
              "      <th></th>\n",
              "      <th>temperatura</th>\n",
              "      <th>classification</th>\n",
              "    </tr>\n",
              "  </thead>\n",
              "  <tbody>\n",
              "    <tr>\n",
              "      <th>0</th>\n",
              "      <td>29.1</td>\n",
              "      <td>quente</td>\n",
              "    </tr>\n",
              "    <tr>\n",
              "      <th>1</th>\n",
              "      <td>31.2</td>\n",
              "      <td>muito quente</td>\n",
              "    </tr>\n",
              "    <tr>\n",
              "      <th>2</th>\n",
              "      <td>28.5</td>\n",
              "      <td>quente</td>\n",
              "    </tr>\n",
              "    <tr>\n",
              "      <th>3</th>\n",
              "      <td>28.0</td>\n",
              "      <td>quente</td>\n",
              "    </tr>\n",
              "    <tr>\n",
              "      <th>4</th>\n",
              "      <td>24.0</td>\n",
              "      <td>confortavel</td>\n",
              "    </tr>\n",
              "    <tr>\n",
              "      <th>5</th>\n",
              "      <td>20.0</td>\n",
              "      <td>frio</td>\n",
              "    </tr>\n",
              "  </tbody>\n",
              "</table>\n",
              "</div>"
            ],
            "text/plain": [
              "   temperatura classification\n",
              "0         29.1         quente\n",
              "1         31.2   muito quente\n",
              "2         28.5         quente\n",
              "3         28.0         quente\n",
              "4         24.0    confortavel\n",
              "5         20.0           frio"
            ]
          },
          "metadata": {
            "tags": []
          },
          "execution_count": 13
        }
      ]
    },
    {
      "cell_type": "code",
      "metadata": {
        "id": "QKOHunQVJDj4",
        "outputId": "659f4312-7613-47a4-f46a-a5e49cea2482",
        "colab": {
          "base_uri": "https://localhost:8080/",
          "height": 235
        }
      },
      "source": [
        "#indexação por nome de múltiplas colunas\n",
        "\n",
        "df.loc[:, ['temperatura', 'classification']]"
      ],
      "execution_count": 14,
      "outputs": [
        {
          "output_type": "execute_result",
          "data": {
            "text/html": [
              "<div>\n",
              "<style scoped>\n",
              "    .dataframe tbody tr th:only-of-type {\n",
              "        vertical-align: middle;\n",
              "    }\n",
              "\n",
              "    .dataframe tbody tr th {\n",
              "        vertical-align: top;\n",
              "    }\n",
              "\n",
              "    .dataframe thead th {\n",
              "        text-align: right;\n",
              "    }\n",
              "</style>\n",
              "<table border=\"1\" class=\"dataframe\">\n",
              "  <thead>\n",
              "    <tr style=\"text-align: right;\">\n",
              "      <th></th>\n",
              "      <th>temperatura</th>\n",
              "      <th>classification</th>\n",
              "    </tr>\n",
              "  </thead>\n",
              "  <tbody>\n",
              "    <tr>\n",
              "      <th>0</th>\n",
              "      <td>29.1</td>\n",
              "      <td>quente</td>\n",
              "    </tr>\n",
              "    <tr>\n",
              "      <th>1</th>\n",
              "      <td>31.2</td>\n",
              "      <td>muito quente</td>\n",
              "    </tr>\n",
              "    <tr>\n",
              "      <th>2</th>\n",
              "      <td>28.5</td>\n",
              "      <td>quente</td>\n",
              "    </tr>\n",
              "    <tr>\n",
              "      <th>3</th>\n",
              "      <td>28.0</td>\n",
              "      <td>quente</td>\n",
              "    </tr>\n",
              "    <tr>\n",
              "      <th>4</th>\n",
              "      <td>24.0</td>\n",
              "      <td>confortavel</td>\n",
              "    </tr>\n",
              "    <tr>\n",
              "      <th>5</th>\n",
              "      <td>20.0</td>\n",
              "      <td>frio</td>\n",
              "    </tr>\n",
              "  </tbody>\n",
              "</table>\n",
              "</div>"
            ],
            "text/plain": [
              "   temperatura classification\n",
              "0         29.1         quente\n",
              "1         31.2   muito quente\n",
              "2         28.5         quente\n",
              "3         28.0         quente\n",
              "4         24.0    confortavel\n",
              "5         20.0           frio"
            ]
          },
          "metadata": {
            "tags": []
          },
          "execution_count": 14
        }
      ]
    },
    {
      "cell_type": "code",
      "metadata": {
        "id": "4FARrLutJQ20",
        "outputId": "ac38174f-6f3a-48ee-d1a8-eda243adb91f",
        "colab": {
          "base_uri": "https://localhost:8080/",
          "height": 235
        }
      },
      "source": [
        "#Indexação boleana\n",
        "df"
      ],
      "execution_count": 15,
      "outputs": [
        {
          "output_type": "execute_result",
          "data": {
            "text/html": [
              "<div>\n",
              "<style scoped>\n",
              "    .dataframe tbody tr th:only-of-type {\n",
              "        vertical-align: middle;\n",
              "    }\n",
              "\n",
              "    .dataframe tbody tr th {\n",
              "        vertical-align: top;\n",
              "    }\n",
              "\n",
              "    .dataframe thead th {\n",
              "        text-align: right;\n",
              "    }\n",
              "</style>\n",
              "<table border=\"1\" class=\"dataframe\">\n",
              "  <thead>\n",
              "    <tr style=\"text-align: right;\">\n",
              "      <th></th>\n",
              "      <th>date</th>\n",
              "      <th>temperatura</th>\n",
              "      <th>classification</th>\n",
              "    </tr>\n",
              "  </thead>\n",
              "  <tbody>\n",
              "    <tr>\n",
              "      <th>0</th>\n",
              "      <td>2020-01-01</td>\n",
              "      <td>29.1</td>\n",
              "      <td>quente</td>\n",
              "    </tr>\n",
              "    <tr>\n",
              "      <th>1</th>\n",
              "      <td>2020-02-01</td>\n",
              "      <td>31.2</td>\n",
              "      <td>muito quente</td>\n",
              "    </tr>\n",
              "    <tr>\n",
              "      <th>2</th>\n",
              "      <td>2020-03-01</td>\n",
              "      <td>28.5</td>\n",
              "      <td>quente</td>\n",
              "    </tr>\n",
              "    <tr>\n",
              "      <th>3</th>\n",
              "      <td>2020-04-01</td>\n",
              "      <td>28.0</td>\n",
              "      <td>quente</td>\n",
              "    </tr>\n",
              "    <tr>\n",
              "      <th>4</th>\n",
              "      <td>2020-05-01</td>\n",
              "      <td>24.0</td>\n",
              "      <td>confortavel</td>\n",
              "    </tr>\n",
              "    <tr>\n",
              "      <th>5</th>\n",
              "      <td>2020-06-01</td>\n",
              "      <td>20.0</td>\n",
              "      <td>frio</td>\n",
              "    </tr>\n",
              "  </tbody>\n",
              "</table>\n",
              "</div>"
            ],
            "text/plain": [
              "         date  temperatura classification\n",
              "0  2020-01-01         29.1         quente\n",
              "1  2020-02-01         31.2   muito quente\n",
              "2  2020-03-01         28.5         quente\n",
              "3  2020-04-01         28.0         quente\n",
              "4  2020-05-01         24.0    confortavel\n",
              "5  2020-06-01         20.0           frio"
            ]
          },
          "metadata": {
            "tags": []
          },
          "execution_count": 15
        }
      ]
    },
    {
      "cell_type": "code",
      "metadata": {
        "id": "HaWayJPRJd30",
        "outputId": "0b242c4a-11a8-419b-e4d7-da88afe8d66e",
        "colab": {
          "base_uri": "https://localhost:8080/",
          "height": 85
        }
      },
      "source": [
        "#dtypes\n",
        "\n",
        "df.dtypes"
      ],
      "execution_count": 16,
      "outputs": [
        {
          "output_type": "execute_result",
          "data": {
            "text/plain": [
              "date               object\n",
              "temperatura       float64\n",
              "classification     object\n",
              "dtype: object"
            ]
          },
          "metadata": {
            "tags": []
          },
          "execution_count": 16
        }
      ]
    },
    {
      "cell_type": "code",
      "metadata": {
        "id": "UoMudVscJgYh",
        "outputId": "129e1861-9aa8-44c4-c130-b3b77de6b66a",
        "colab": {
          "base_uri": "https://localhost:8080/",
          "height": 85
        }
      },
      "source": [
        "#transformando o tipo da coluna para o datetime\n",
        "df['date'] = pd.to_datetime(df['date'])\n",
        "df.dtypes"
      ],
      "execution_count": 21,
      "outputs": [
        {
          "output_type": "execute_result",
          "data": {
            "text/plain": [
              "date              datetime64[ns]\n",
              "temperatura              float64\n",
              "classification            object\n",
              "dtype: object"
            ]
          },
          "metadata": {
            "tags": []
          },
          "execution_count": 21
        }
      ]
    },
    {
      "cell_type": "code",
      "metadata": {
        "id": "bHoPMQvbLsYR"
      },
      "source": [
        "#setando o índice\n",
        "df= df.set_index('date')"
      ],
      "execution_count": 23,
      "outputs": []
    },
    {
      "cell_type": "code",
      "metadata": {
        "id": "QS8wrW0WKlty",
        "outputId": "21faec7d-3a3c-4ab8-bf53-79ae47f459e9",
        "colab": {
          "base_uri": "https://localhost:8080/",
          "height": 173
        }
      },
      "source": [
        "#indexação boleana\n",
        "\n",
        "df[df['temperatura']>=25]"
      ],
      "execution_count": 18,
      "outputs": [
        {
          "output_type": "execute_result",
          "data": {
            "text/html": [
              "<div>\n",
              "<style scoped>\n",
              "    .dataframe tbody tr th:only-of-type {\n",
              "        vertical-align: middle;\n",
              "    }\n",
              "\n",
              "    .dataframe tbody tr th {\n",
              "        vertical-align: top;\n",
              "    }\n",
              "\n",
              "    .dataframe thead th {\n",
              "        text-align: right;\n",
              "    }\n",
              "</style>\n",
              "<table border=\"1\" class=\"dataframe\">\n",
              "  <thead>\n",
              "    <tr style=\"text-align: right;\">\n",
              "      <th></th>\n",
              "      <th>date</th>\n",
              "      <th>temperatura</th>\n",
              "      <th>classification</th>\n",
              "    </tr>\n",
              "  </thead>\n",
              "  <tbody>\n",
              "    <tr>\n",
              "      <th>0</th>\n",
              "      <td>2020-01-01</td>\n",
              "      <td>29.1</td>\n",
              "      <td>quente</td>\n",
              "    </tr>\n",
              "    <tr>\n",
              "      <th>1</th>\n",
              "      <td>2020-02-01</td>\n",
              "      <td>31.2</td>\n",
              "      <td>muito quente</td>\n",
              "    </tr>\n",
              "    <tr>\n",
              "      <th>2</th>\n",
              "      <td>2020-03-01</td>\n",
              "      <td>28.5</td>\n",
              "      <td>quente</td>\n",
              "    </tr>\n",
              "    <tr>\n",
              "      <th>3</th>\n",
              "      <td>2020-04-01</td>\n",
              "      <td>28.0</td>\n",
              "      <td>quente</td>\n",
              "    </tr>\n",
              "  </tbody>\n",
              "</table>\n",
              "</div>"
            ],
            "text/plain": [
              "        date  temperatura classification\n",
              "0 2020-01-01         29.1         quente\n",
              "1 2020-02-01         31.2   muito quente\n",
              "2 2020-03-01         28.5         quente\n",
              "3 2020-04-01         28.0         quente"
            ]
          },
          "metadata": {
            "tags": []
          },
          "execution_count": 18
        }
      ]
    },
    {
      "cell_type": "code",
      "metadata": {
        "id": "oINORlVxKsT6",
        "outputId": "d23f3384-459c-43ca-aae2-4f44e15eb11f",
        "colab": {
          "base_uri": "https://localhost:8080/",
          "height": 173
        }
      },
      "source": [
        "#indexação boleana considerando datetime\n",
        "#seleção de entradas até Março de 2020\n",
        "\n",
        "df[df.index <= '2020-03-01']"
      ],
      "execution_count": 24,
      "outputs": [
        {
          "output_type": "execute_result",
          "data": {
            "text/html": [
              "<div>\n",
              "<style scoped>\n",
              "    .dataframe tbody tr th:only-of-type {\n",
              "        vertical-align: middle;\n",
              "    }\n",
              "\n",
              "    .dataframe tbody tr th {\n",
              "        vertical-align: top;\n",
              "    }\n",
              "\n",
              "    .dataframe thead th {\n",
              "        text-align: right;\n",
              "    }\n",
              "</style>\n",
              "<table border=\"1\" class=\"dataframe\">\n",
              "  <thead>\n",
              "    <tr style=\"text-align: right;\">\n",
              "      <th></th>\n",
              "      <th>temperatura</th>\n",
              "      <th>classification</th>\n",
              "    </tr>\n",
              "    <tr>\n",
              "      <th>date</th>\n",
              "      <th></th>\n",
              "      <th></th>\n",
              "    </tr>\n",
              "  </thead>\n",
              "  <tbody>\n",
              "    <tr>\n",
              "      <th>2020-01-01</th>\n",
              "      <td>29.1</td>\n",
              "      <td>quente</td>\n",
              "    </tr>\n",
              "    <tr>\n",
              "      <th>2020-02-01</th>\n",
              "      <td>31.2</td>\n",
              "      <td>muito quente</td>\n",
              "    </tr>\n",
              "    <tr>\n",
              "      <th>2020-03-01</th>\n",
              "      <td>28.5</td>\n",
              "      <td>quente</td>\n",
              "    </tr>\n",
              "  </tbody>\n",
              "</table>\n",
              "</div>"
            ],
            "text/plain": [
              "            temperatura classification\n",
              "date                                  \n",
              "2020-01-01         29.1         quente\n",
              "2020-02-01         31.2   muito quente\n",
              "2020-03-01         28.5         quente"
            ]
          },
          "metadata": {
            "tags": []
          },
          "execution_count": 24
        }
      ]
    },
    {
      "cell_type": "code",
      "metadata": {
        "id": "ujx3mjzAL5oz",
        "outputId": "8d76f496-0b8e-4e99-a2c3-c216169f9010",
        "colab": {
          "base_uri": "https://localhost:8080/",
          "height": 173
        }
      },
      "source": [
        "#indexação booleana considerando datetime\n",
        "#seleção de entradas ate março de 2020 e\n",
        "#slice na coluna 'classification'\n",
        "\n",
        "df.loc[df.index <= '2020-03-01', ['classification']]"
      ],
      "execution_count": 26,
      "outputs": [
        {
          "output_type": "execute_result",
          "data": {
            "text/html": [
              "<div>\n",
              "<style scoped>\n",
              "    .dataframe tbody tr th:only-of-type {\n",
              "        vertical-align: middle;\n",
              "    }\n",
              "\n",
              "    .dataframe tbody tr th {\n",
              "        vertical-align: top;\n",
              "    }\n",
              "\n",
              "    .dataframe thead th {\n",
              "        text-align: right;\n",
              "    }\n",
              "</style>\n",
              "<table border=\"1\" class=\"dataframe\">\n",
              "  <thead>\n",
              "    <tr style=\"text-align: right;\">\n",
              "      <th></th>\n",
              "      <th>classification</th>\n",
              "    </tr>\n",
              "    <tr>\n",
              "      <th>date</th>\n",
              "      <th></th>\n",
              "    </tr>\n",
              "  </thead>\n",
              "  <tbody>\n",
              "    <tr>\n",
              "      <th>2020-01-01</th>\n",
              "      <td>quente</td>\n",
              "    </tr>\n",
              "    <tr>\n",
              "      <th>2020-02-01</th>\n",
              "      <td>muito quente</td>\n",
              "    </tr>\n",
              "    <tr>\n",
              "      <th>2020-03-01</th>\n",
              "      <td>quente</td>\n",
              "    </tr>\n",
              "  </tbody>\n",
              "</table>\n",
              "</div>"
            ],
            "text/plain": [
              "           classification\n",
              "date                     \n",
              "2020-01-01         quente\n",
              "2020-02-01   muito quente\n",
              "2020-03-01         quente"
            ]
          },
          "metadata": {
            "tags": []
          },
          "execution_count": 26
        }
      ]
    }
  ]
}