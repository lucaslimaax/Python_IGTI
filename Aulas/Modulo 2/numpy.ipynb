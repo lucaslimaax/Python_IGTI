{
  "nbformat": 4,
  "nbformat_minor": 0,
  "metadata": {
    "colab": {
      "name": "numpy.ipynb",
      "provenance": [],
      "collapsed_sections": []
    },
    "kernelspec": {
      "name": "python3",
      "display_name": "Python 3"
    }
  },
  "cells": [
    {
      "cell_type": "code",
      "metadata": {
        "id": "QGYayPVGie-j",
        "outputId": "76d7c7be-4fba-424f-d882-b0d8be699bb6",
        "colab": {
          "base_uri": "https://localhost:8080/",
          "height": 85
        }
      },
      "source": [
        "import numpy as np\n",
        "\n",
        "x = np.array([[1, 3, 7],\n",
        "              [4, 11, 21],\n",
        "              [42, 8, 9]])\n",
        "print(\"x:\\n\", x) "
      ],
      "execution_count": 1,
      "outputs": [
        {
          "output_type": "stream",
          "text": [
            "x:\n",
            " [[ 1  3  7]\n",
            " [ 4 11 21]\n",
            " [42  8  9]]\n"
          ],
          "name": "stdout"
        }
      ]
    },
    {
      "cell_type": "code",
      "metadata": {
        "id": "wZjBlX5vi08t",
        "outputId": "4ce3fa80-95a7-4dcc-a6f3-8f1460af7af0",
        "colab": {
          "base_uri": "https://localhost:8080/",
          "height": 187
        }
      },
      "source": [
        "#outras operações uteis do numpy\n",
        "\n",
        "#reshape: transformar a matriz em um vetor de coluna\n",
        "#(3, 3) vira (9, 1): 3*3 = 9*1 =9\n",
        "print(\"A transformação de em um vetor coluna: \\n\", x.reshape(9, 1))"
      ],
      "execution_count": 2,
      "outputs": [
        {
          "output_type": "stream",
          "text": [
            "A transformação de em um vetor coluna: \n",
            " [[ 1]\n",
            " [ 3]\n",
            " [ 7]\n",
            " [ 4]\n",
            " [11]\n",
            " [21]\n",
            " [42]\n",
            " [ 8]\n",
            " [ 9]]\n"
          ],
          "name": "stdout"
        }
      ]
    },
    {
      "cell_type": "code",
      "metadata": {
        "id": "L0BYEAGkjkbN",
        "outputId": "369fef21-9045-460d-d1fc-49f3b6e8c936",
        "colab": {
          "base_uri": "https://localhost:8080/",
          "height": 119
        }
      },
      "source": [
        "#np.sum: soma em um dado eixo, axis = {0: linha, 1: coluna}\n",
        "\n",
        "print(\"x: \\n\", x)\n",
        "print(\"soma de todos os elementos de x:\", np.sum(x))\n",
        "print(\"soma de x ao longo das linhas:\", np.sum(x, axis=0))"
      ],
      "execution_count": 4,
      "outputs": [
        {
          "output_type": "stream",
          "text": [
            "x: \n",
            " [[ 1  3  7]\n",
            " [ 4 11 21]\n",
            " [42  8  9]]\n",
            "soma de todos os elementos de x: 106\n",
            "soma de x ao longo das linhas: [47 22 37]\n"
          ],
          "name": "stdout"
        }
      ]
    },
    {
      "cell_type": "code",
      "metadata": {
        "id": "4R7d3GhukXPp",
        "outputId": "3005429d-9bda-4f08-e89e-0491643ce83c",
        "colab": {
          "base_uri": "https://localhost:8080/",
          "height": 136
        }
      },
      "source": [
        "#np.mean: média de um eixo, axis = {0: linha, 1:coluna}\n",
        "\n",
        "print(\"x:\\n\", x)\n",
        "print(\"média de todos os elementos de x:\", np.mean(x))\n",
        "print(\"média de x ao longo das linhas:\", np.mean(x, axis=0))\n",
        "print(\"média de x ao longo das colunas:\", np.mean(x, axis=1))"
      ],
      "execution_count": 6,
      "outputs": [
        {
          "output_type": "stream",
          "text": [
            "x:\n",
            " [[ 1  3  7]\n",
            " [ 4 11 21]\n",
            " [42  8  9]]\n",
            "média de todos os elementos de x: 11.777777777777779\n",
            "média de x ao longo das linhas: [15.66666667  7.33333333 12.33333333]\n",
            "média de x ao longo das colunas: [ 3.66666667 12.         19.66666667]\n"
          ],
          "name": "stdout"
        }
      ]
    },
    {
      "cell_type": "code",
      "metadata": {
        "id": "LfNoy5ZKlF0m",
        "outputId": "9b6ca806-4c01-4454-a0c4-54de7b447f00",
        "colab": {
          "base_uri": "https://localhost:8080/",
          "height": 119
        }
      },
      "source": [
        "#np.where, indentificação dos indices de uma dada condição\n",
        "\n",
        "cond = x%2 == 0 #números pares\n",
        "print(\"condição: \\n\", cond)\n",
        "i, j= np.where(cond) #indices x[i, j] = x[cond]\n",
        "\n",
        "print(\"indice i (linhas):\", i)\n",
        "print(\"indice j(colunas):\",j)"
      ],
      "execution_count": 7,
      "outputs": [
        {
          "output_type": "stream",
          "text": [
            "condição: \n",
            " [[False False False]\n",
            " [ True False False]\n",
            " [ True  True False]]\n",
            "indice i (linhas): [1 2 2]\n",
            "indice j(colunas): [0 0 1]\n"
          ],
          "name": "stdout"
        }
      ]
    },
    {
      "cell_type": "code",
      "metadata": {
        "id": "4I6qE3bKmWUj"
      },
      "source": [
        "#Regressão Linear \n",
        "\n",
        "# biblioteca de visualização de dados\n",
        "import matplotlib.pyplot as plt\n",
        "\n"
      ],
      "execution_count": 10,
      "outputs": []
    },
    {
      "cell_type": "code",
      "metadata": {
        "id": "TWagSxYTokWe"
      },
      "source": [
        "#dados \n",
        "\n",
        "x =[-1., -0.7777778, -0.55555556, -0.33333333, -0.11111111,\n",
        "    0.11111111, 0.33333333, 0.55555555, 0.77777778, 1.]\n",
        "\n",
        "y = [-1.13956201, -0.57117999, 0.21697033, 0.5425699, 0.49406657,\n",
        "     1.14972239, 1.64228553, 2.1749824, 2.64773614, 2.95684282]\n"
      ],
      "execution_count": 17,
      "outputs": []
    },
    {
      "cell_type": "code",
      "metadata": {
        "id": "XQTd3Lh9rAXy",
        "outputId": "666dbcae-a4ab-4352-88d7-24ca45faeb22",
        "colab": {
          "base_uri": "https://localhost:8080/",
          "height": 351
        }
      },
      "source": [
        "#plot dos dados\n",
        "\n",
        "plt.figure(figsize=(10, 5))\n",
        "plt.plot(x, y, label='dados originais')\n",
        "plt.legend()\n",
        "plt.xlabel(\"x\")\n",
        "plt.ylabel(\"y\")\n",
        "plt.grid()\n",
        "plt.show"
      ],
      "execution_count": 18,
      "outputs": [
        {
          "output_type": "execute_result",
          "data": {
            "text/plain": [
              "<function matplotlib.pyplot.show>"
            ]
          },
          "metadata": {
            "tags": []
          },
          "execution_count": 18
        },
        {
          "output_type": "display_data",
          "data": {
            "image/png": "[encoded data removed]",
            "text/plain": [
              "<Figure size 720x360 with 1 Axes>"
            ]
          },
          "metadata": {
            "tags": [],
            "needs_background": "light"
          }
        }
      ]
    }
  ]
}