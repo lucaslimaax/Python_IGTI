{
  "nbformat": 4,
  "nbformat_minor": 0,
  "metadata": {
    "colab": {
      "name": "Numpy_Array.ipynb",
      "provenance": [],
      "collapsed_sections": []
    },
    "kernelspec": {
      "name": "python3",
      "display_name": "Python 3"
    }
  },
  "cells": [
    {
      "cell_type": "markdown",
      "metadata": {
        "id": "rb5rgx7YYiB6"
      },
      "source": [
        "**NUMPY**"
      ]
    },
    {
      "cell_type": "code",
      "metadata": {
        "id": "45rx1hdV8ShB"
      },
      "source": [
        "#Importando as bibliotecas\n",
        "\n",
        "import numpy as np"
      ],
      "execution_count": 1,
      "outputs": []
    },
    {
      "cell_type": "code",
      "metadata": {
        "id": "qfg4iMxnYsDr",
        "outputId": "0a10b251-5d02-497f-9418-931c80105838",
        "colab": {
          "base_uri": "https://localhost:8080/"
        }
      },
      "source": [
        "#CRIAÇÃO DE ARRAYS\n",
        "\n",
        "l=[1, 2, 3]\n",
        "x=np.array(l)\n",
        "print(\"x:\", x)\n",
        "print(\"shape:\", x.shape)"
      ],
      "execution_count": 5,
      "outputs": [
        {
          "output_type": "stream",
          "text": [
            "x: [1 2 3]\n",
            "shape: (3,)\n"
          ],
          "name": "stdout"
        }
      ]
    },
    {
      "cell_type": "code",
      "metadata": {
        "id": "95zgo_wSZDmi",
        "outputId": "51dffaa2-b0fd-44e0-cf69-8043fb1b3c42",
        "colab": {
          "base_uri": "https://localhost:8080/"
        }
      },
      "source": [
        "type(x)"
      ],
      "execution_count": 6,
      "outputs": [
        {
          "output_type": "execute_result",
          "data": {
            "text/plain": [
              "numpy.ndarray"
            ]
          },
          "metadata": {
            "tags": []
          },
          "execution_count": 6
        }
      ]
    },
    {
      "cell_type": "code",
      "metadata": {
        "id": "5NsGNQqeZG0O",
        "outputId": "60b9819b-3e79-46d4-eb0d-341c1bfa381a",
        "colab": {
          "base_uri": "https://localhost:8080/"
        }
      },
      "source": [
        "#criação de um array 2D: Listas aninhadas \n",
        "\n",
        "l=[[1, 2], [3, 4]]\n",
        "x=np.array(l)\n",
        "print(\"x: \\n\", x)\n",
        "print(\"shape:\", x.shape)"
      ],
      "execution_count": 7,
      "outputs": [
        {
          "output_type": "stream",
          "text": [
            "x: \n",
            " [[1 2]\n",
            " [3 4]]\n",
            "shape: (2, 2)\n"
          ],
          "name": "stdout"
        }
      ]
    },
    {
      "cell_type": "code",
      "metadata": {
        "id": "OI-tbJ3KZdUU",
        "outputId": "8117695a-5be3-47a5-e831-c3272a9305b9",
        "colab": {
          "base_uri": "https://localhost:8080/"
        }
      },
      "source": [
        "#array contendo apenas 0's \n",
        "\n",
        "dim = (3, 3) #linhas, colunas\n",
        "\n",
        "x= np.zeros(dim)\n",
        "print(\"x:\\n\", x)\n",
        "print(\"shape:\", x.shape)"
      ],
      "execution_count": 10,
      "outputs": [
        {
          "output_type": "stream",
          "text": [
            "x:\n",
            " [[0. 0. 0.]\n",
            " [0. 0. 0.]\n",
            " [0. 0. 0.]]\n",
            "shape: (3, 3)\n"
          ],
          "name": "stdout"
        }
      ]
    },
    {
      "cell_type": "code",
      "metadata": {
        "id": "bhAIqS8FaSWj",
        "outputId": "dfcc6a09-b6b8-4e3d-f6e4-6e1992e6a486",
        "colab": {
          "base_uri": "https://localhost:8080/"
        }
      },
      "source": [
        "#array contendo apenas 1's\n",
        "\n",
        "size =(2, 2) #linhas/colunas\n",
        "x = np.ones(size)\n",
        "print(\"x:\\n\", x)\n",
        "print(\"shape:\", x.shape)"
      ],
      "execution_count": 11,
      "outputs": [
        {
          "output_type": "stream",
          "text": [
            "x:\n",
            " [[1. 1.]\n",
            " [1. 1.]]\n",
            "shape: (2, 2)\n"
          ],
          "name": "stdout"
        }
      ]
    },
    {
      "cell_type": "code",
      "metadata": {
        "id": "qBiwQisoaqnm",
        "outputId": "dcb11752-8ffa-4860-f85a-77207ccde465",
        "colab": {
          "base_uri": "https://localhost:8080/"
        }
      },
      "source": [
        "#criação de valores dentero de um intervalo\n",
        "#valores uniformes entre 5 e 15\n",
        "\n",
        "x_min, x_max = 5,15\n",
        "x=np.linspace(start=x_min, stop =x_max, num=6)\n",
        "print(\"x:\",x)\n",
        "print(\"shape:\", x.shape)"
      ],
      "execution_count": 13,
      "outputs": [
        {
          "output_type": "stream",
          "text": [
            "x: [ 5.  7.  9. 11. 13. 15.]\n",
            "shape: (6,)\n"
          ],
          "name": "stdout"
        }
      ]
    }
  ]
}